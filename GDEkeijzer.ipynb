{
  "nbformat": 4,
  "nbformat_minor": 0,
  "metadata": {
    "colab": {
      "provenance": [],
      "authorship_tag": "ABX9TyOuwPEBUTYNU6VvfbhZDaEf",
      "include_colab_link": true
    },
    "kernelspec": {
      "name": "python3",
      "display_name": "Python 3"
    },
    "language_info": {
      "name": "python"
    }
  },
  "cells": [
    {
      "cell_type": "markdown",
      "metadata": {
        "id": "view-in-github",
        "colab_type": "text"
      },
      "source": [
        "<a href=\"https://colab.research.google.com/github/quirozem/ggcolab/blob/main/GDEkeijzer.ipynb\" target=\"_parent\"><img src=\"https://colab.research.google.com/assets/colab-badge.svg\" alt=\"Open In Colab\"/></a>"
      ]
    },
    {
      "cell_type": "code",
      "execution_count": 3,
      "metadata": {
        "colab": {
          "base_uri": "https://localhost:8080/"
        },
        "id": "lgFeAgF5-5Pe",
        "outputId": "fa5e3594-381c-4d23-f70c-9fd1cc35d760"
      },
      "outputs": [
        {
          "output_type": "stream",
          "name": "stdout",
          "text": [
            "Dr. Benno de Keijzer, profesor e investigador de la Universidad Veracruzana.\n",
            "\n",
            "La plática ‘Los hombres ante la transición de género’ se llevó a cabo en el Auditorio Ignacio Ellacuría.\n",
            "\n",
            "En 1377, la Universidad de Bolonia, la más antigua del mundo occidental con funcionamiento ininterrumpido, y en la que había mujeres estudiando junto a una mayoría de hombres, publicó un edicto que prohibió el ingreso de cualquier mujer a esa institución, aunque sea la más honesta, por considerar a la mujer, la razón primera del pecado y la causa de la expulsión del hombre del paraíso.\n",
            "\n",
            "Hoy en día, aunque existe matrícula femenina en las universidades y ellas egresan de las licenciaturas, en los altos cargos académicos y en el Sistema Nacional de Investigadores (SNI) hay todavía, al menos en la Universidad Veracruzana, una proporción de 70-30 o de 60-40, donde la mayoría es ocupada por los hombres; por lo que, “las universidades todavía no nos hemos recuperado de esa expulsión de las mujeres”.\n",
            "\n",
            "Todo esto lo refirió el Dr. Benno George Álvaro de Keijzer Fokker, profesor e investigador de la Universidad Veracruzana, en su plática Los hombres ante la transición de género, que dio en la Universidad Iberoamericana Ciudad de México como parte de las actividades del 9M y por invitación de la Vicerrectoría Académica.\n",
            "\n",
            "Ante un auditorio presencial exclusivamente masculino (en virtud de que el 9M es un día sin ellas, para caer en la cuenta, con su ausencia, del aporte de las mujeres a la sociedad), en un contexto de protestas feministas y en el que la mitad de los feminicidios son cometidos por la pareja íntima, De Keijzer dijo: “Lo que nos tiene aquí es la persistencia del patriarcado, la resistencia de los hombres, el que no entendemos que no entendemos”, que es lo que genera la protesta feminista y el enojo de ellas.\n",
            "\n",
            "Y aunque no generalizó el que todos los hombres sean patriarcales, violentos y abusivos, sí resaltó que “la mayoría somos testigos de cosas que pasan y guardamos silencio, un silencio incómodo. Ahí está lo que llaman la cofradía masculina, y eso hay que empezarlo a cuestionar en uno mismo”.\n",
            "\n",
            "Agregó, citando a la antropóloga y activista feminista argentina Rita Laura Segato, que: La masculinidad es una estructura basada en un pacto, que es violento por definición. “Y es un pacto, sobre todo entre hombres; aunque hay mujeres que apoyan y apuntalan ese pacto también”.\n",
            "\n",
            "Así que, mencionó el doctor, “es hora de que los hombres empecemos a mirar hacia adentro”, pero no sólo diariamente al final de cada jornada, sino también de pronto en ciertos momentos de tensión, como puede ser antes de cometer alguna forma de violencia o de emitir algún comentario sexista, para así, vigilarse con esa mirada interna.\n",
            "\n",
            "A los estudiantes y docentes que le escucharon en el Auditorio Ignacio Ellacuría, el profesor De Keijzer Fokker les comentó que la masculinidad no está en los genes, sino que se incorpora a través de diversos procesos educativos, formales, a veces implícitos, pero sobre todo informales, por ejemplo, en el comportamiento en los estadios o en las cantinas.\n",
            "\n",
            "Ese machismo está metido en una caja de la masculinidad, constituida por varios elementos que se plantean como esenciales para los hombres: la autosuficiencia -no pedir ayuda para nada-, ser fuerte -en lo físico y en no mostrar emociones-, en los roles masculinos rígidos -la mujer en la casa y el hombre en el trabajo-, ser heterosexual -remarcado al mostrarse misógino y homófobo para probar la masculinidad-, la hipersexualidad, la violencia, el control y ser el proveedor –elemento central para la mayoría de los hombres–.\n",
            "\n",
            "Aunado a esto, hay una serie de cosas que tiene que ser un hombre: fuerte, fornido, formal, peleonero, bebedor. Y hay una serie de límites y presiones de lo que no debe de hacer, por ejemplo, no llora y no se deja.\n",
            "\n",
            "Por eso, al retomar la idea de la mirada interna, comentó que esta mirada crítica pretende que los hombres “podamos mirarnos a nosotros mismos”, pero no para victimizarse, sino para pensar desde una mirada de género qué van a hacer para beneficio propio y también de las mujeres.\n",
            "\n",
            "Por otra parte, mencionó que la pandemia de COVID-19 ayudó a que muchos hombres se incorporaran al trabajo doméstico, pero para las mujeres significó una multiplicación del trabajo en casa, y ya está demostrado que el volumen de publicaciones científicas de mujeres bajó durante la pandemia y no se ha recuperado. Así que los hombres deben preguntarse, “cómo vamos a avanzar hacia la democratización familiar”.\n",
            "\n",
            "Benno de Keijzer afirmó que “somos lo que hacemos, para cambiar lo que hicieron de nosotros”; por lo que los hombres pueden empezar a participar más en lo doméstico, aunque su papá nunca levante un plato. Muchos hombres que fueron papás duros, rígidos, ausentes por el trabajo y por su rol de proveedor, de pronto devinieron en abuelos muy distintos, que incluso lloran, lo que nunca antes, por lo que consideró: “Qué bueno que me pueda jubilar en algún momento del machismo”.\n",
            "\n",
            "¿Y cómo son los hombres no violentos? El académico de la Universidad Veracruzana refirió que en una investigación que hizo sobre el tema con su colega Félix Nava, éste preguntó a las mujeres cómo son los hombres que no ejercen violencia en el ámbito de la pareja, a lo que ellas respondieron: son hombres que escuchan, que se adaptan a los cambios, entienden y aceptan diversas situaciones de pareja, son flexibles, expresan con claridad sus deseos -no con gruñidos o con silencios-, se dan espacios para sí mismos, comunican lo que sienten, están dispuestos a aprender, pueden cambiar de opinión, conversan y retroalimentan.\n",
            "\n",
            "Y así como dijera el pedagogo brasileño Paulo Freire, que el cambio tiene que venir de afuera, el doctor De Keijzer Fokker mencionó que en lo que respecta al tema que abordó en su plática, el cambio está viniendo de afuera, de las mujeres hacia los hombres; pero también tiene que venir desde dentro, para que sea auténtico, para que sea real y no cosmético.\n",
            "\n",
            "Que el 8M y el 9M amplíen los horizontes\n",
            "\n",
            "Antes de la disertación del profesor e investigador de la Universidad Veracruzana, el Dr. Alejandro Anaya Muñoz, Vicerrector Académico de la IBERO, dijo que “el objetivo de hoy, 9 de marzo, que no están nuestras compañeras, que no están nuestras profesoras, que no están tampoco nuestras colegas”, es reflexionar sobre qué le toca hacer a los hombres. Ayer (8M) y en años anteriores, las mujeres ya pusieron un ejemplo, y ya están haciendo su parte, con mucha valentía, con mucho compromiso y con mucha creatividad también.\n",
            "\n",
            "Y, como lo dice el título de la conferencia Los hombres ante la transición de género, los varones están en una etapa de cambio de época, “en un momento en que a ustedes y a nosotros nos está tocando esta sacudida. Y qué nos toca ante esa sacudida, nos toca muchísimas cosas”.\n",
            "\n",
            "Toca hacer una reflexión personal “de qué cosas hago yo en mi vida cotidiana que son violentas. Nos toca a nosotros, los hombres, verdaderamente cuestionarnos qué es lo que hacemos en nuestro día a día para contribuir, de alguna manera, a ese ambiente social que resulta en 11 mujeres asesinadas al día”. Porque no es un problema nada más de las instituciones de procuración de justicia, sino que todo eso se da en un contexto social “del cual nosotros somos parte”.\n",
            "\n",
            "Por su parte, el Dr. Luis Arriaga Valenzuela, S. J., Rector de la Universidad Iberoamericana Ciudad de México, invitó a los congregados a escuchar atentamente al doctor Benno George de Keijzer y a participar en las actividades que la Comunidad IBERO organizó en el marco del 9M.\n",
            "\n",
            "“Deseo que todas estas actividades permitan, sobre todo, la ampliación de nuestros horizontes. Esto es lo que de veras deseo, sobre todo para nuestros alumnos, pues estamos aquí porque creemos en ustedes, porque le estamos apostando a que ustedes van a cambiar estas relaciones, para que sean más equitativas”.\n",
            "\n",
            "Resaltó que el día de ayer, 8M, es producto de luchas históricas de muchas personas, mujeres y hombres que cayeron en la lógica de construir derechos, que son inalienables, imprescriptibles, irrenunciables. En esta lógica, deseó que todas las actividades del 9M “amplíen nuestros horizontes, pero, sobre todo, nos orienten a un camino hacia mayor equidad y mayor libertad”.\n",
            "\n",
            "['Dr', 'Benno', 'de', 'Keijzer', 'profesor', 'e', 'investigador', 'de', 'la', 'Universidad', 'VeracruzanaLa', 'plática', 'Los', 'hombres', 'ante', 'la', 'transición', 'de', 'género', 'se', 'llevó', 'a', 'cabo', 'en', 'el', 'Auditorio', 'Ignacio', 'EllacuríaEn', '1377', 'la', 'Universidad', 'de', 'Bolonia', 'la', 'más', 'antigua', 'del', 'mundo', 'occidental', 'con', 'funcionamiento', 'ininterrumpido', 'y', 'en', 'la', 'que', 'había', 'mujeres', 'estudiando', 'junto', 'a', 'una', 'mayoría', 'de', 'hombres', 'publicó', 'un', 'edicto', 'que', 'prohibió', 'el', 'ingreso', 'de', 'cualquier', 'mujer', 'a', 'esa', 'institución', 'aunque', 'sea', 'la', 'más', 'honesta', 'por', 'considerar', 'a', 'la', 'mujer', 'la', 'razón', 'primera', 'del', 'pecado', 'y', 'la', 'causa', 'de', 'la', 'expulsión', 'del', 'hombre', 'del', 'paraísoHoy', 'en', 'día', 'aunque', 'existe', 'matrícula', 'femenina', 'en', 'las', 'universidades', 'y', 'ellas', 'egresan', 'de', 'las', 'licenciaturas', 'en', 'los', 'altos', 'cargos', 'académicos', 'y', 'en', 'el', 'Sistema', 'Nacional', 'de', 'Investigadores', '(SNI)', 'hay', 'todavía', 'al', 'menos', 'en', 'la', 'Universidad', 'Veracruzana', 'una', 'proporción', 'de', '7030', 'o', 'de', '6040', 'donde', 'la', 'mayoría', 'es', 'ocupada', 'por', 'los', 'hombres', 'por', 'lo', 'que', 'las', 'universidades', 'todavía', 'no', 'nos', 'hemos', 'recuperado', 'de', 'esa', 'expulsión', 'de', 'las', 'mujeresTodo', 'esto', 'lo', 'refirió', 'el', 'Dr', 'Benno', 'George', 'Álvaro', 'de', 'Keijzer', 'Fokker', 'profesor', 'e', 'investigador', 'de', 'la', 'Universidad', 'Veracruzana', 'en', 'su', 'plática', 'Los', 'hombres', 'ante', 'la', 'transición', 'de', 'género', 'que', 'dio', 'en', 'la', 'Universidad', 'Iberoamericana', 'Ciudad', 'de', 'México', 'como', 'parte', 'de', 'las', 'actividades', 'del', '9M', 'y', 'por', 'invitación', 'de', 'la', 'Vicerrectoría', 'AcadémicaAnte', 'un', 'auditorio', 'presencial', 'exclusivamente', 'masculino', '(en', 'virtud', 'de', 'que', 'el', '9M', 'es', 'un', 'día', 'sin', 'ellas', 'para', 'caer', 'en', 'la', 'cuenta', 'con', 'su', 'ausencia', 'del', 'aporte', 'de', 'las', 'mujeres', 'a', 'la', 'sociedad)', 'en', 'un', 'contexto', 'de', 'protestas', 'feministas', 'y', 'en', 'el', 'que', 'la', 'mitad', 'de', 'los', 'feminicidios', 'son', 'cometidos', 'por', 'la', 'pareja', 'íntima', 'De', 'Keijzer', 'dijo:', 'Lo', 'que', 'nos', 'tiene', 'aquí', 'es', 'la', 'persistencia', 'del', 'patriarcado', 'la', 'resistencia', 'de', 'los', 'hombres', 'el', 'que', 'no', 'entendemos', 'que', 'no', 'entendemos', 'que', 'es', 'lo', 'que', 'genera', 'la', 'protesta', 'feminista', 'y', 'el', 'enojo', 'de', 'ellasY', 'aunque', 'no', 'generalizó', 'el', 'que', 'todos', 'los', 'hombres', 'sean', 'patriarcales', 'violentos', 'y', 'abusivos', 'sí', 'resaltó', 'que', 'la', 'mayoría', 'somos', 'testigos', 'de', 'cosas', 'que', 'pasan', 'y', 'guardamos', 'silencio', 'un', 'silencio', 'incómodo', 'Ahí', 'está', 'lo', 'que', 'llaman', 'la', 'cofradía', 'masculina', 'y', 'eso', 'hay', 'que', 'empezarlo', 'a', 'cuestionar', 'en', 'uno', 'mismoAgregó', 'citando', 'a', 'la', 'antropóloga', 'y', 'activista', 'feminista', 'argentina', 'Rita', 'Laura', 'Segato', 'que:', 'La', 'masculinidad', 'es', 'una', 'estructura', 'basada', 'en', 'un', 'pacto', 'que', 'es', 'violento', 'por', 'definición', 'Y', 'es', 'un', 'pacto', 'sobre', 'todo', 'entre', 'hombres', 'aunque', 'hay', 'mujeres', 'que', 'apoyan', 'y', 'apuntalan', 'ese', 'pacto', 'tambiénAsí', 'que', 'mencionó', 'el', 'doctor', 'es', 'hora', 'de', 'que', 'los', 'hombres', 'empecemos', 'a', 'mirar', 'hacia', 'adentro', 'pero', 'no', 'sólo', 'diariamente', 'al', 'final', 'de', 'cada', 'jornada', 'sino', 'también', 'de', 'pronto', 'en', 'ciertos', 'momentos', 'de', 'tensión', 'como', 'puede', 'ser', 'antes', 'de', 'cometer', 'alguna', 'forma', 'de', 'violencia', 'o', 'de', 'emitir', 'algún', 'comentario', 'sexista', 'para', 'así', 'vigilarse', 'con', 'esa', 'mirada', 'internaA', 'los', 'estudiantes', 'y', 'docentes', 'que', 'le', 'escucharon', 'en', 'el', 'Auditorio', 'Ignacio', 'Ellacuría', 'el', 'profesor', 'De', 'Keijzer', 'Fokker', 'les', 'comentó', 'que', 'la', 'masculinidad', 'no', 'está', 'en', 'los', 'genes', 'sino', 'que', 'se', 'incorpora', 'a', 'través', 'de', 'diversos', 'procesos', 'educativos', 'formales', 'a', 'veces', 'implícitos', 'pero', 'sobre', 'todo', 'informales', 'por', 'ejemplo', 'en', 'el', 'comportamiento', 'en', 'los', 'estadios', 'o', 'en', 'las', 'cantinasEse', 'machismo', 'está', 'metido', 'en', 'una', 'caja', 'de', 'la', 'masculinidad', 'constituida', 'por', 'varios', 'elementos', 'que', 'se', 'plantean', 'como', 'esenciales', 'para', 'los', 'hombres:', 'la', 'autosuficiencia', 'no', 'pedir', 'ayuda', 'para', 'nada', 'ser', 'fuerte', 'en', 'lo', 'físico', 'y', 'en', 'no', 'mostrar', 'emociones', 'en', 'los', 'roles', 'masculinos', 'rígidos', 'la', 'mujer', 'en', 'la', 'casa', 'y', 'el', 'hombre', 'en', 'el', 'trabajo', 'ser', 'heterosexual', 'remarcado', 'al', 'mostrarse', 'misógino', 'y', 'homófobo', 'para', 'probar', 'la', 'masculinidad', 'la', 'hipersexualidad', 'la', 'violencia', 'el', 'control', 'y', 'ser', 'el', 'proveedor', '–elemento', 'central', 'para', 'la', 'mayoría', 'de', 'los', 'hombres–Aunado', 'a', 'esto', 'hay', 'una', 'serie', 'de', 'cosas', 'que', 'tiene', 'que', 'ser', 'un', 'hombre:', 'fuerte', 'fornido', 'formal', 'peleonero', 'bebedor', 'Y', 'hay', 'una', 'serie', 'de', 'límites', 'y', 'presiones', 'de', 'lo', 'que', 'no', 'debe', 'de', 'hacer', 'por', 'ejemplo', 'no', 'llora', 'y', 'no', 'se', 'dejaPor', 'eso', 'al', 'retomar', 'la', 'idea', 'de', 'la', 'mirada', 'interna', 'comentó', 'que', 'esta', 'mirada', 'crítica', 'pretende', 'que', 'los', 'hombres', 'podamos', 'mirarnos', 'a', 'nosotros', 'mismos', 'pero', 'no', 'para', 'victimizarse', 'sino', 'para', 'pensar', 'desde', 'una', 'mirada', 'de', 'género', 'qué', 'van', 'a', 'hacer', 'para', 'beneficio', 'propio', 'y', 'también', 'de', 'las', 'mujeresPor', 'otra', 'parte', 'mencionó', 'que', 'la', 'pandemia', 'de', 'COVID19', 'ayudó', 'a', 'que', 'muchos', 'hombres', 'se', 'incorporaran', 'al', 'trabajo', 'doméstico', 'pero', 'para', 'las', 'mujeres', 'significó', 'una', 'multiplicación', 'del', 'trabajo', 'en', 'casa', 'y', 'ya', 'está', 'demostrado', 'que', 'el', 'volumen', 'de', 'publicaciones', 'científicas', 'de', 'mujeres', 'bajó', 'durante', 'la', 'pandemia', 'y', 'no', 'se', 'ha', 'recuperado', 'Así', 'que', 'los', 'hombres', 'deben', 'preguntarse', 'cómo', 'vamos', 'a', 'avanzar', 'hacia', 'la', 'democratización', 'familiarBenno', 'de', 'Keijzer', 'afirmó', 'que', 'somos', 'lo', 'que', 'hacemos', 'para', 'cambiar', 'lo', 'que', 'hicieron', 'de', 'nosotros', 'por', 'lo', 'que', 'los', 'hombres', 'pueden', 'empezar', 'a', 'participar', 'más', 'en', 'lo', 'doméstico', 'aunque', 'su', 'papá', 'nunca', 'levante', 'un', 'plato', 'Muchos', 'hombres', 'que', 'fueron', 'papás', 'duros', 'rígidos', 'ausentes', 'por', 'el', 'trabajo', 'y', 'por', 'su', 'rol', 'de', 'proveedor', 'de', 'pronto', 'devinieron', 'en', 'abuelos', 'muy', 'distintos', 'que', 'incluso', 'lloran', 'lo', 'que', 'nunca', 'antes', 'por', 'lo', 'que', 'consideró:', 'Qué', 'bueno', 'que', 'me', 'pueda', 'jubilar', 'en', 'algún', 'momento', 'del', 'machismoY', 'cómo', 'son', 'los', 'hombres', 'no', 'violentos', 'El', 'académico', 'de', 'la', 'Universidad', 'Veracruzana', 'refirió', 'que', 'en', 'una', 'investigación', 'que', 'hizo', 'sobre', 'el', 'tema', 'con', 'su', 'colega', 'Félix', 'Nava', 'éste', 'preguntó', 'a', 'las', 'mujeres', 'cómo', 'son', 'los', 'hombres', 'que', 'no', 'ejercen', 'violencia', 'en', 'el', 'ámbito', 'de', 'la', 'pareja', 'a', 'lo', 'que', 'ellas', 'respondieron:', 'son', 'hombres', 'que', 'escuchan', 'que', 'se', 'adaptan', 'a', 'los', 'cambios', 'entienden', 'y', 'aceptan', 'diversas', 'situaciones', 'de', 'pareja', 'son', 'flexibles', 'expresan', 'con', 'claridad', 'sus', 'deseos', 'no', 'con', 'gruñidos', 'o', 'con', 'silencios', 'se', 'dan', 'espacios', 'para', 'sí', 'mismos', 'comunican', 'lo', 'que', 'sienten', 'están', 'dispuestos', 'a', 'aprender', 'pueden', 'cambiar', 'de', 'opinión', 'conversan', 'y', 'retroalimentanY', 'así', 'como', 'dijera', 'el', 'pedagogo', 'brasileño', 'Paulo', 'Freire', 'que', 'el', 'cambio', 'tiene', 'que', 'venir', 'de', 'afuera', 'el', 'doctor', 'De', 'Keijzer', 'Fokker', 'mencionó', 'que', 'en', 'lo', 'que', 'respecta', 'al', 'tema', 'que', 'abordó', 'en', 'su', 'plática', 'el', 'cambio', 'está', 'viniendo', 'de', 'afuera', 'de', 'las', 'mujeres', 'hacia', 'los', 'hombres', 'pero', 'también', 'tiene', 'que', 'venir', 'desde', 'dentro', 'para', 'que', 'sea', 'auténtico', 'para', 'que', 'sea', 'real', 'y', 'no', 'cosméticoQue', 'el', '8M', 'y', 'el', '9M', 'amplíen', 'los', 'horizontesAntes', 'de', 'la', 'disertación', 'del', 'profesor', 'e', 'investigador', 'de', 'la', 'Universidad', 'Veracruzana', 'el', 'Dr', 'Alejandro', 'Anaya', 'Muñoz', 'Vicerrector', 'Académico', 'de', 'la', 'IBERO', 'dijo', 'que', 'el', 'objetivo', 'de', 'hoy', '9', 'de', 'marzo', 'que', 'no', 'están', 'nuestras', 'compañeras', 'que', 'no', 'están', 'nuestras', 'profesoras', 'que', 'no', 'están', 'tampoco', 'nuestras', 'colegas', 'es', 'reflexionar', 'sobre', 'qué', 'le', 'toca', 'hacer', 'a', 'los', 'hombres', 'Ayer', '(8M)', 'y', 'en', 'años', 'anteriores', 'las', 'mujeres', 'ya', 'pusieron', 'un', 'ejemplo', 'y', 'ya', 'están', 'haciendo', 'su', 'parte', 'con', 'mucha', 'valentía', 'con', 'mucho', 'compromiso', 'y', 'con', 'mucha', 'creatividad', 'tambiénY', 'como', 'lo', 'dice', 'el', 'título', 'de', 'la', 'conferencia', 'Los', 'hombres', 'ante', 'la', 'transición', 'de', 'género', 'los', 'varones', 'están', 'en', 'una', 'etapa', 'de', 'cambio', 'de', 'época', 'en', 'un', 'momento', 'en', 'que', 'a', 'ustedes', 'y', 'a', 'nosotros', 'nos', 'está', 'tocando', 'esta', 'sacudida', 'Y', 'qué', 'nos', 'toca', 'ante', 'esa', 'sacudida', 'nos', 'toca', 'muchísimas', 'cosasToca', 'hacer', 'una', 'reflexión', 'personal', 'de', 'qué', 'cosas', 'hago', 'yo', 'en', 'mi', 'vida', 'cotidiana', 'que', 'son', 'violentas', 'Nos', 'toca', 'a', 'nosotros', 'los', 'hombres', 'verdaderamente', 'cuestionarnos', 'qué', 'es', 'lo', 'que', 'hacemos', 'en', 'nuestro', 'día', 'a', 'día', 'para', 'contribuir', 'de', 'alguna', 'manera', 'a', 'ese', 'ambiente', 'social', 'que', 'resulta', 'en', '11', 'mujeres', 'asesinadas', 'al', 'día', 'Porque', 'no', 'es', 'un', 'problema', 'nada', 'más', 'de', 'las', 'instituciones', 'de', 'procuración', 'de', 'justicia', 'sino', 'que', 'todo', 'eso', 'se', 'da', 'en', 'un', 'contexto', 'social', 'del', 'cual', 'nosotros', 'somos', 'partePor', 'su', 'parte', 'el', 'Dr', 'Luis', 'Arriaga', 'Valenzuela', 'S', 'J', 'Rector', 'de', 'la', 'Universidad', 'Iberoamericana', 'Ciudad', 'de', 'México', 'invitó', 'a', 'los', 'congregados', 'a', 'escuchar', 'atentamente', 'al', 'doctor', 'Benno', 'George', 'de', 'Keijzer', 'y', 'a', 'participar', 'en', 'las', 'actividades', 'que', 'la', 'Comunidad', 'IBERO', 'organizó', 'en', 'el', 'marco', 'del', '9MDeseo', 'que', 'todas', 'estas', 'actividades', 'permitan', 'sobre', 'todo', 'la', 'ampliación', 'de', 'nuestros', 'horizontes', 'Esto', 'es', 'lo', 'que', 'de', 'veras', 'deseo', 'sobre', 'todo', 'para', 'nuestros', 'alumnos', 'pues', 'estamos', 'aquí', 'porque', 'creemos', 'en', 'ustedes', 'porque', 'le', 'estamos', 'apostando', 'a', 'que', 'ustedes', 'van', 'a', 'cambiar', 'estas', 'relaciones', 'para', 'que', 'sean', 'más', 'equitativasResaltó', 'que', 'el', 'día', 'de', 'ayer', '8M', 'es', 'producto', 'de', 'luchas', 'históricas', 'de', 'muchas', 'personas', 'mujeres', 'y', 'hombres', 'que', 'cayeron', 'en', 'la', 'lógica', 'de', 'construir', 'derechos', 'que', 'son', 'inalienables', 'imprescriptibles', 'irrenunciables', 'En', 'esta', 'lógica', 'deseó', 'que', 'todas', 'las', 'actividades', 'del', '9M', 'amplíen', 'nuestros', 'horizontes', 'pero', 'sobre', 'todo', 'nos', 'orienten', 'a', 'un', 'camino', 'hacia', 'mayor', 'equidad', 'y', 'mayor', 'libertad']\n"
          ]
        }
      ],
      "source": [
        "import requests\n",
        "\n",
        "def read_github_raw(repo_owner, repo_name, file_path, branch='main'):\n",
        "    url = f\"https://raw.githubusercontent.com/{repo_owner}/{repo_name}/{branch}/{file_path}\"\n",
        "    #con la f\" se avisa que habrá variables para reemplazar valores\n",
        "    response = requests.get(url)\n",
        "    return response.text  #lo convierte a texto\n",
        "#-------------------------------------------------\n",
        "def armaColumnas(cont):\n",
        "  #primero se le quitan los caracteres raros\n",
        "  reem = [\"\\n\",\"”\", \"“\", \"‘\", \"’\", \"¿\", \"?\", \"-\", \",\",\".\", \";\"]\n",
        "  conty = cont\n",
        "  for char in reem:\n",
        "    conty = conty.replace(char,\" \")\n",
        "  #separar todas las columnas separadas con \" \" (espacio en blanco)\n",
        "  conty = conty.split(\" \")  #genera una lista de palabras\n",
        "                            #deja muchos huecos, conviene identificar \" \" y \"\" (Xhacer)\n",
        "  return conty\n",
        "#---- principal -------#\n",
        "texto0 = read_github_raw(\"quirozem\",\"ggcolab\",\"textoKeijzer.txt\" )\n",
        "print(texto0)\n",
        "texto1 = armaColumnas(texto0)\n",
        "print(texto1)"
      ]
    }
  ]
}